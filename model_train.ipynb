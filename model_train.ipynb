{
  "nbformat": 4,
  "nbformat_minor": 0,
  "metadata": {
    "colab": {
      "provenance": [],
      "mount_file_id": "1nf3-v_oXruEyBIqudvfdgBGwJoI-Ijzj",
      "authorship_tag": "ABX9TyPPD8mvG3ICtXo44PJg0hHC",
      "include_colab_link": true
    },
    "kernelspec": {
      "name": "python3",
      "display_name": "Python 3"
    },
    "language_info": {
      "name": "python"
    }
  },
  "cells": [
    {
      "cell_type": "markdown",
      "metadata": {
        "id": "view-in-github",
        "colab_type": "text"
      },
      "source": [
        "<a href=\"https://colab.research.google.com/github/vishal122003/Vishal_Gen-ai/blob/main/model_train.ipynb\" target=\"_parent\"><img src=\"https://colab.research.google.com/assets/colab-badge.svg\" alt=\"Open In Colab\"/></a>"
      ]
    },
    {
      "cell_type": "code",
      "execution_count": null,
      "metadata": {
        "id": "LNH24I0ltqRh"
      },
      "outputs": [],
      "source": [
        "import numpy as np\n",
        "import pickle\n",
        "from sklearn.utils import shuffle\n",
        "from sklearn.model_selection import train_test_split\n"
      ]
    },
    {
      "cell_type": "code",
      "source": [
        "# Import necessary items from Keras\n",
        "from keras.models import Sequential\n",
        "from keras.layers import Activation, Dropout, UpSampling2D\n",
        "from keras.layers import Conv2DTranspose, Convolution2D, MaxPooling2D\n",
        "from keras.preprocessing.image import ImageDataGenerator"
      ],
      "metadata": {
        "id": "H-3D_xc5tzP8"
      },
      "execution_count": null,
      "outputs": []
    },
    {
      "cell_type": "code",
      "source": [
        "import pickle\n",
        "import cv2\n",
        "\n",
        "# Read images and store them separately\n",
        "image_paths = [\"/content/drive/MyDrive/test_image.p/1.jpg\", \"/content/drive/MyDrive/test_image.p/2.jpg\", \"/content/drive/MyDrive/test_image.p/3.jpg\",\"/content/drive/MyDrive/test_image.p/4.jpg\",\"/content/drive/MyDrive/test_image.p/5.jpg\",\"/content/drive/MyDrive/test_image.p/6.jpg\"]  # List of image file paths\n",
        "images = []\n",
        "for path in image_paths:\n",
        "    img = cv2.imread(path)\n",
        "    images.append(img)\n",
        "\n",
        "# Save images to pickle file\n",
        "with open(\"images.pickle\", \"wb\") as file:\n",
        "    pickle.dump(images, file)"
      ],
      "metadata": {
        "id": "NMVN_ty00y4W"
      },
      "execution_count": null,
      "outputs": []
    },
    {
      "cell_type": "code",
      "source": [
        "train_images = pickle.load(open(\"/content/images.pickle\", \"rb\" ))"
      ],
      "metadata": {
        "id": "UV79r_tNwPwR"
      },
      "execution_count": null,
      "outputs": []
    },
    {
      "cell_type": "code",
      "source": [
        "labels = pickle.load(open(\"/content/images.pickle\", \"rb\" ))"
      ],
      "metadata": {
        "id": "JbMUosfE1kWh"
      },
      "execution_count": null,
      "outputs": []
    },
    {
      "cell_type": "code",
      "source": [
        "# Make into arrays as the neural network wants these\n",
        "train_images = np.array(train_images)\n",
        "labels = np.array(labels)\n",
        "\n",
        "# Normalize labels - training images get normalized to start in the network\n",
        "labels = labels / 255"
      ],
      "metadata": {
        "id": "6c0slZ5M1zZ2"
      },
      "execution_count": null,
      "outputs": []
    },
    {
      "cell_type": "code",
      "source": [
        "# Shuffle images along with their labels, then split into training/validation sets\n",
        "train_images, labels = shuffle(train_images, labels)"
      ],
      "metadata": {
        "id": "BRMx_wBs4MH7"
      },
      "execution_count": null,
      "outputs": []
    },
    {
      "cell_type": "code",
      "source": [
        "X_train, X_val, y_train, y_val = train_test_split(train_images, labels, test_size=0.1)"
      ],
      "metadata": {
        "id": "H1LVHj004THK"
      },
      "execution_count": null,
      "outputs": []
    },
    {
      "cell_type": "code",
      "source": [
        "# Batch size, epochs and pool size below are all paramaters to fiddle with for optimization\n",
        "batch_size = 150\n",
        "epochs = 20\n",
        "pool_size = (2, 2)\n",
        "input_shape = X_train.shape[1:]"
      ],
      "metadata": {
        "id": "RuAHfJXT4YKH"
      },
      "execution_count": null,
      "outputs": []
    },
    {
      "cell_type": "code",
      "source": [
        "# Conv Layer 1\n",
        "model.add(Convolution2D(60, 3, 3, activation = 'relu', name = 'Conv1'))\n"
      ],
      "metadata": {
        "id": "QAHQhswS4c3O"
      },
      "execution_count": null,
      "outputs": []
    },
    {
      "cell_type": "code",
      "source": [
        "# Conv Layer 2\n",
        "model.add(Convolution2D(50, 3, 3,  activation = 'relu', name = 'Conv2'))"
      ],
      "metadata": {
        "id": "chCT31g85VzB"
      },
      "execution_count": null,
      "outputs": []
    },
    {
      "cell_type": "code",
      "source": [
        "# Pooling 1\n",
        "model.add(MaxPooling2D(pool_size=pool_size))"
      ],
      "metadata": {
        "id": "sMye9Q1d5fXX"
      },
      "execution_count": null,
      "outputs": []
    },
    {
      "cell_type": "code",
      "source": [
        "# Conv Layer 3\n",
        "model.add(Convolution2D(40, 3, 3, activation = 'relu', name = 'Conv3'))\n",
        "model.add(Dropout(0.2))"
      ],
      "metadata": {
        "id": "rDGw-wFT5iQS"
      },
      "execution_count": null,
      "outputs": []
    },
    {
      "cell_type": "code",
      "source": [
        "# Conv Layer 4\n",
        "model.add(Convolution2D(30, 3, 3, activation = 'relu', name = 'Conv4'))\n",
        "model.add(Dropout(0.2))"
      ],
      "metadata": {
        "id": "Lgzl8GdU5ofh"
      },
      "execution_count": null,
      "outputs": []
    },
    {
      "cell_type": "code",
      "source": [
        "# Conv Layer 5\n",
        "model.add(Convolution2D(20, 3, 3, activation = 'relu', name = 'Conv5'))\n",
        "model.add(Dropout(0.2))"
      ],
      "metadata": {
        "id": "MzFYTTkl6Ipg"
      },
      "execution_count": null,
      "outputs": []
    },
    {
      "cell_type": "code",
      "source": [
        "# Pooling 2\n",
        "model.add(MaxPooling2D(pool_size=pool_size))"
      ],
      "metadata": {
        "id": "SCT73oDT6PuU"
      },
      "execution_count": null,
      "outputs": []
    },
    {
      "cell_type": "code",
      "source": [
        "# Conv Layer 6\n",
        "model.add(Convolution2D(10, 3, 3, activation = 'relu', name = 'Conv6'))\n",
        "model.add(Dropout(0.2))"
      ],
      "metadata": {
        "id": "Okuyz93N6R1S"
      },
      "execution_count": null,
      "outputs": []
    },
    {
      "cell_type": "code",
      "source": [
        "# Conv Layer 7\n",
        "model.add(Convolution2D(5, 3, 3, activation = 'relu', name = 'Conv7'))\n",
        "model.add(Dropout(0.2))"
      ],
      "metadata": {
        "id": "Ex_LDogp6YIK"
      },
      "execution_count": null,
      "outputs": []
    },
    {
      "cell_type": "code",
      "source": [
        "# Pooling 3\n",
        "model.add(MaxPooling2D(pool_size=pool_size))"
      ],
      "metadata": {
        "id": "KQHMNO4-6dvc"
      },
      "execution_count": null,
      "outputs": []
    },
    {
      "cell_type": "code",
      "source": [
        "# Upsample 1\n",
        "model.add(UpSampling2D(size=pool_size))"
      ],
      "metadata": {
        "id": "skfBkeB06gUc"
      },
      "execution_count": null,
      "outputs": []
    },
    {
      "cell_type": "code",
      "source": [
        "# Deconv 1\n",
        "model.add(Conv2DTranspose(10, 3, 3, activation = 'relu' , name = 'Deconv1'))\n",
        "model.add(Dropout(0.2))"
      ],
      "metadata": {
        "id": "k4aRD_nH6wUx"
      },
      "execution_count": null,
      "outputs": []
    },
    {
      "cell_type": "code",
      "source": [
        "# Deconv 2\n",
        "model.add(Conv2DTranspose(20, 3, 3,  activation = 'relu',\n",
        "                          name = 'Deconv2'))\n",
        "model.add(Dropout(0.2))"
      ],
      "metadata": {
        "id": "etv_NnUS9CS1"
      },
      "execution_count": null,
      "outputs": []
    },
    {
      "cell_type": "code",
      "source": [
        "# Upsample 2\n",
        "model.add(UpSampling2D(size=pool_size))"
      ],
      "metadata": {
        "id": "zDGAB6H29ReG"
      },
      "execution_count": null,
      "outputs": []
    },
    {
      "cell_type": "code",
      "source": [
        "# Deconv 3\n",
        "model.add(Conv2DTranspose(30, 3, 3, activation = 'relu',\n",
        "                           name = 'Deconv3'))\n",
        "model.add(Dropout(0.2))"
      ],
      "metadata": {
        "id": "UpZhe1tW9VXV"
      },
      "execution_count": null,
      "outputs": []
    },
    {
      "cell_type": "code",
      "source": [
        "# Deconv 4\n",
        "model.add(Conv2DTranspose(40, 3, 3, activation = 'relu',\n",
        "                           name = 'Deconv4'))\n",
        "model.add(Dropout(0.2))"
      ],
      "metadata": {
        "id": "nL--ATOQ9d89"
      },
      "execution_count": null,
      "outputs": []
    },
    {
      "cell_type": "code",
      "source": [
        "# Deconv 5\n",
        "model.add(Conv2DTranspose(50, 3, 3, activation = 'relu',\n",
        "                           name = 'Deconv5'))\n",
        "model.add(Dropout(0.2))"
      ],
      "metadata": {
        "id": "u1cV9nZ_9qKO"
      },
      "execution_count": null,
      "outputs": []
    },
    {
      "cell_type": "code",
      "source": [
        "# Upsample 3\n",
        "model.add(UpSampling2D(size=pool_size))"
      ],
      "metadata": {
        "id": "wW41_wYR9vG9"
      },
      "execution_count": null,
      "outputs": []
    },
    {
      "cell_type": "code",
      "source": [
        "# Deconv 6\n",
        "model.add(Conv2DTranspose(60, 3, 3, activation = 'relu', name = 'Deconv6'))\n",
        "\n",
        "# Final layer - only including one channel so 1 filter\n",
        "model.add(Conv2DTranspose(1, 3, 3,  activation = 'relu',  name = 'Final'))\n"
      ],
      "metadata": {
        "id": "kybkSNUZ96Nk"
      },
      "execution_count": null,
      "outputs": []
    },
    {
      "cell_type": "code",
      "source": [
        "datagen = ImageDataGenerator()\n",
        "datagen.fit(X_train)"
      ],
      "metadata": {
        "id": "kQYS9TtY-JjS"
      },
      "execution_count": null,
      "outputs": []
    },
    {
      "cell_type": "code",
      "source": [
        "# Compiling and training the model\n",
        "model.compile(optimizer='Adam', loss='mean_squared_error')\n"
      ],
      "metadata": {
        "id": "7I-y-lya-MdI"
      },
      "execution_count": null,
      "outputs": []
    },
    {
      "cell_type": "code",
      "source": [
        "# Compiling and training the model\n",
        "model.compile(optimizer='Adam', loss='mean_squared_error')\n"
      ],
      "metadata": {
        "id": "5-xVyZ5N_lmn"
      },
      "execution_count": null,
      "outputs": []
    },
    {
      "cell_type": "code",
      "source": [
        "# Save model architecture and weights\n",
        "model_json = model.to_json()\n",
        "with open(\"model.json\", \"w\") as json_file:\n",
        "    json_file.write(model_json)\n"
      ],
      "metadata": {
        "id": "NIsPW4MICfii"
      },
      "execution_count": null,
      "outputs": []
    },
    {
      "cell_type": "code",
      "source": [
        "model.save_weights('model.h5')"
      ],
      "metadata": {
        "id": "99vi94hFCjiX"
      },
      "execution_count": null,
      "outputs": []
    },
    {
      "cell_type": "code",
      "source": [
        "# Show summary of model\n",
        "model.summary()"
      ],
      "metadata": {
        "colab": {
          "base_uri": "https://localhost:8080/"
        },
        "id": "1v7aIYntCl0e",
        "outputId": "ce54615d-5a79-4f30-be69-242beb24ffe6"
      },
      "execution_count": null,
      "outputs": [
        {
          "output_type": "stream",
          "name": "stdout",
          "text": [
            "Model: \"sequential\"\n",
            "_________________________________________________________________\n",
            " Layer (type)                Output Shape              Param #   \n",
            "=================================================================\n",
            " Conv1 (Conv2D)              (5, 180, 320, 60)         1680      \n",
            "                                                                 \n",
            " Conv2 (Conv2D)              (5, 60, 106, 50)          27050     \n",
            "                                                                 \n",
            " max_pooling2d (MaxPooling2  (5, 30, 53, 50)           0         \n",
            " D)                                                              \n",
            "                                                                 \n",
            " Conv3 (Conv2D)              (5, 10, 17, 40)           18040     \n",
            "                                                                 \n",
            " dropout (Dropout)           (5, 10, 17, 40)           0         \n",
            "                                                                 \n",
            " Conv4 (Conv2D)              (5, 3, 5, 30)             10830     \n",
            "                                                                 \n",
            " dropout_1 (Dropout)         (5, 3, 5, 30)             0         \n",
            "                                                                 \n",
            " Conv5 (Conv2D)              (5, 1, 1, 20)             5420      \n",
            "                                                                 \n",
            " dropout_2 (Dropout)         (5, 1, 1, 20)             0         \n",
            "                                                                 \n",
            " max_pooling2d_1 (MaxPoolin  multiple                  0         \n",
            " g2D)                                                            \n",
            "                                                                 \n",
            " Conv6 (Conv2D)              multiple                  1810      \n",
            "                                                                 \n",
            " dropout_3 (Dropout)         multiple                  0         \n",
            "                                                                 \n",
            " Conv7 (Conv2D)              multiple                  455       \n",
            "                                                                 \n",
            " dropout_4 (Dropout)         multiple                  0         \n",
            "                                                                 \n",
            " max_pooling2d_2 (MaxPoolin  multiple                  0         \n",
            " g2D)                                                            \n",
            "                                                                 \n",
            " up_sampling2d (UpSampling2  multiple                  0         \n",
            " D)                                                              \n",
            "                                                                 \n",
            " Deconv1 (Conv2DTranspose)   multiple                  460       \n",
            "                                                                 \n",
            " dropout_5 (Dropout)         multiple                  0         \n",
            "                                                                 \n",
            " Deconv2 (Conv2DTranspose)   multiple                  1820      \n",
            "                                                                 \n",
            " dropout_6 (Dropout)         multiple                  0         \n",
            "                                                                 \n",
            " up_sampling2d_1 (UpSamplin  multiple                  0         \n",
            " g2D)                                                            \n",
            "                                                                 \n",
            " Deconv4 (Conv2DTranspose)   multiple                  7240      \n",
            "                                                                 \n",
            " dropout_7 (Dropout)         multiple                  0         \n",
            "                                                                 \n",
            " Deconv3 (Conv2DTranspose)   multiple                  10830     \n",
            "                                                                 \n",
            " dropout_8 (Dropout)         multiple                  0         \n",
            "                                                                 \n",
            " Deconv5 (Conv2DTranspose)   multiple                  13550     \n",
            "                                                                 \n",
            " dropout_9 (Dropout)         multiple                  0         \n",
            "                                                                 \n",
            " up_sampling2d_2 (UpSamplin  multiple                  0         \n",
            " g2D)                                                            \n",
            "                                                                 \n",
            " Deconv6 (Conv2DTranspose)   multiple                  27060     \n",
            "                                                                 \n",
            " Final (Conv2DTranspose)     multiple                  541       \n",
            "                                                                 \n",
            "=================================================================\n",
            "Total params: 126786 (495.26 KB)\n",
            "Trainable params: 126786 (495.26 KB)\n",
            "Non-trainable params: 0 (0.00 Byte)\n",
            "_________________________________________________________________\n"
          ]
        }
      ]
    }
  ]
}